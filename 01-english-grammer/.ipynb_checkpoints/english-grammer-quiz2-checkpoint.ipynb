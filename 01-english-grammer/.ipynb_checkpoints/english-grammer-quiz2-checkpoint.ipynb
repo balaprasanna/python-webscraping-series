{
 "cells": [
  {
   "cell_type": "markdown",
   "metadata": {},
   "source": [
    "## Scraper for http://a4esl.org/"
   ]
  },
  {
   "cell_type": "code",
   "execution_count": 131,
   "metadata": {},
   "outputs": [
    {
     "name": "stdout",
     "output_type": "stream",
     "text": [
      "http://a4esl.org/q/h/al-a-lb.html\n"
     ]
    }
   ],
   "source": [
    "urlbase = \"http://a4esl.org/a/g.html\"\n",
    "url = 'http://a4esl.org/q/h/mc006-ck.html'\n",
    "url = 'http://a4esl.org/q/h/vc001-lb.html'\n",
    "url = 'http://a4esl.org/q/h/vm/fampeople.html'\n",
    "url = 'http://a4esl.org/q/h/al-a-lb.html'\n",
    "print(url)\n",
    "# urltmp =\"http://esl.fis.edu/grammar/q7m/{}.htm\"\n",
    "# urls = [  urltmp.format(i) for i in range(1,4)]\n",
    "# urls"
   ]
  },
  {
   "cell_type": "code",
   "execution_count": 132,
   "metadata": {},
   "outputs": [],
   "source": [
    "from selenium import webdriver\n",
    "from bs4 import BeautifulSoup\n",
    "from tqdm import tqdm\n",
    "from time import sleep\n",
    "from collections import defaultdict\n",
    "import pandas as pd\n",
    "\n",
    "import pickle\n",
    "def save(fname, obj):\n",
    "    with open(fname , 'wb') as f:\n",
    "        f.write(pickle.dumps(obj))\n",
    "\n",
    "def load(fname):\n",
    "    with open(fname , 'rb') as f:\n",
    "        return pickle.loads(f.read())\n"
   ]
  },
  {
   "cell_type": "code",
   "execution_count": 133,
   "metadata": {},
   "outputs": [],
   "source": [
    "def open_url_and_get_soup(url, wait=0, return_driver=False, \n",
    "                          load_profiles=False, \n",
    "                          user_data_dir=r'/home/bala/.config/google-chrome',\n",
    "                          profilename='Profile 1'):\n",
    "    options = webdriver.chrome.options.Options()\n",
    "    options.add_argument(f\"--user-data-dir={user_data_dir}\")\n",
    "    options.add_argument(f'--profile-directory={profilename}')\n",
    "    \n",
    "    if load_profiles:\n",
    "        driver = webdriver.Chrome(options=options)\n",
    "    else:\n",
    "        driver = webdriver.Chrome()\n",
    "    driver.get(url)\n",
    "    if wait: sleep(wait)\n",
    "    data = driver.page_source\n",
    "    soup = BeautifulSoup(data)\n",
    "    if return_driver:\n",
    "        return soup, data, driver\n",
    "    driver.close()\n",
    "    return soup, data"
   ]
  },
  {
   "cell_type": "code",
   "execution_count": 134,
   "metadata": {},
   "outputs": [],
   "source": [
    "soup, _, driver = open_url_and_get_soup(url, return_driver=True)"
   ]
  },
  {
   "cell_type": "code",
   "execution_count": 135,
   "metadata": {},
   "outputs": [],
   "source": [
    "soup = BeautifulSoup(driver.page_source)\n",
    "driver.close()"
   ]
  },
  {
   "cell_type": "code",
   "execution_count": 136,
   "metadata": {},
   "outputs": [],
   "source": [
    "# \",\".join([\"1\",\"2\"])"
   ]
  },
  {
   "cell_type": "code",
   "execution_count": 137,
   "metadata": {},
   "outputs": [
    {
     "name": "stdout",
     "output_type": "stream",
     "text": [
      "('People fly in them.', '', 'airplanes')\n",
      "('Keven Costner, Brad Pitt and Sean Connery are all ___', '', 'actors')\n",
      "('When you grow up you are ___', '', 'an adult')\n",
      "('A country that has many kangaroos is ___', '', 'Australia')\n",
      "('A machine which keeps you cool in summer is ___', '', 'an air conditioner')\n",
      "(\"It wakes you up in the morning. It's ___\", '', 'an alarm clock')\n",
      "('The opposite of dead is ___', '', 'alive')\n",
      "('Somewhere to stub your cigar out in is called ___', '', 'an ashtray')\n",
      "('A word that means \"good looking or pretty\" ___', '', 'attractive')\n",
      "('A person who goes to the moon or into outer space is called ___', '', 'an astronaut')\n"
     ]
    }
   ],
   "source": [
    "questions = []\n",
    "\n",
    "for li in soup.find('form').find_all(\"li\"):\n",
    "    if li:\n",
    "        items  = [ str(o) for o in list(li.children) if o and str(o) and str(o) != '<br/>']\n",
    "        for index , item in enumerate(items):\n",
    "            if item.startswith('<select>'): break\n",
    "        ques_and_ops = items[:index]\n",
    "        ques, *ops = ques_and_ops\n",
    "        ans = list(li.find(\"select\").children)[-1].text\n",
    "        ops_flatern = \",\".join(ops)\n",
    "        row = ( ques , ops_flatern ,  ans )\n",
    "        questions.append( row )\n",
    "        print(row)\n"
   ]
  },
  {
   "cell_type": "code",
   "execution_count": 139,
   "metadata": {},
   "outputs": [],
   "source": [
    "df = pd.DataFrame(questions, columns=['ques','options', 'ans'])"
   ]
  },
  {
   "cell_type": "code",
   "execution_count": 140,
   "metadata": {},
   "outputs": [
    {
     "data": {
      "text/html": [
       "<div>\n",
       "<style scoped>\n",
       "    .dataframe tbody tr th:only-of-type {\n",
       "        vertical-align: middle;\n",
       "    }\n",
       "\n",
       "    .dataframe tbody tr th {\n",
       "        vertical-align: top;\n",
       "    }\n",
       "\n",
       "    .dataframe thead th {\n",
       "        text-align: right;\n",
       "    }\n",
       "</style>\n",
       "<table border=\"1\" class=\"dataframe\">\n",
       "  <thead>\n",
       "    <tr style=\"text-align: right;\">\n",
       "      <th></th>\n",
       "      <th>ques</th>\n",
       "      <th>options</th>\n",
       "      <th>ans</th>\n",
       "    </tr>\n",
       "  </thead>\n",
       "  <tbody>\n",
       "    <tr>\n",
       "      <th>0</th>\n",
       "      <td>People fly in them.</td>\n",
       "      <td></td>\n",
       "      <td>airplanes</td>\n",
       "    </tr>\n",
       "    <tr>\n",
       "      <th>1</th>\n",
       "      <td>Keven Costner, Brad Pitt and Sean Connery are ...</td>\n",
       "      <td></td>\n",
       "      <td>actors</td>\n",
       "    </tr>\n",
       "    <tr>\n",
       "      <th>2</th>\n",
       "      <td>When you grow up you are ___</td>\n",
       "      <td></td>\n",
       "      <td>an adult</td>\n",
       "    </tr>\n",
       "    <tr>\n",
       "      <th>3</th>\n",
       "      <td>A country that has many kangaroos is ___</td>\n",
       "      <td></td>\n",
       "      <td>Australia</td>\n",
       "    </tr>\n",
       "    <tr>\n",
       "      <th>4</th>\n",
       "      <td>A machine which keeps you cool in summer is ___</td>\n",
       "      <td></td>\n",
       "      <td>an air conditioner</td>\n",
       "    </tr>\n",
       "  </tbody>\n",
       "</table>\n",
       "</div>"
      ],
      "text/plain": [
       "                                                ques options  \\\n",
       "0                                People fly in them.           \n",
       "1  Keven Costner, Brad Pitt and Sean Connery are ...           \n",
       "2                       When you grow up you are ___           \n",
       "3           A country that has many kangaroos is ___           \n",
       "4    A machine which keeps you cool in summer is ___           \n",
       "\n",
       "                  ans  \n",
       "0           airplanes  \n",
       "1              actors  \n",
       "2            an adult  \n",
       "3           Australia  \n",
       "4  an air conditioner  "
      ]
     },
     "execution_count": 140,
     "metadata": {},
     "output_type": "execute_result"
    }
   ],
   "source": [
    "df.head()"
   ]
  },
  {
   "cell_type": "code",
   "execution_count": 141,
   "metadata": {},
   "outputs": [],
   "source": [
    "df.to_csv(\"grammer_quiz5.csv\", index=False)"
   ]
  },
  {
   "cell_type": "code",
   "execution_count": 142,
   "metadata": {},
   "outputs": [
    {
     "data": {
      "text/plain": [
       "10"
      ]
     },
     "execution_count": 142,
     "metadata": {},
     "output_type": "execute_result"
    }
   ],
   "source": [
    "len(df)"
   ]
  },
  {
   "cell_type": "code",
   "execution_count": null,
   "metadata": {},
   "outputs": [],
   "source": []
  }
 ],
 "metadata": {
  "kernelspec": {
   "display_name": "Python 3",
   "language": "python",
   "name": "python3"
  },
  "language_info": {
   "codemirror_mode": {
    "name": "ipython",
    "version": 3
   },
   "file_extension": ".py",
   "mimetype": "text/x-python",
   "name": "python",
   "nbconvert_exporter": "python",
   "pygments_lexer": "ipython3",
   "version": "3.7.3"
  }
 },
 "nbformat": 4,
 "nbformat_minor": 2
}
