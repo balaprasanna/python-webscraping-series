{
 "cells": [
  {
   "cell_type": "code",
   "execution_count": 1,
   "metadata": {},
   "outputs": [
    {
     "name": "stdout",
     "output_type": "stream",
     "text": [
      "http://esl.fis.edu/grammar/q7m/1.htm\n"
     ]
    },
    {
     "data": {
      "text/plain": [
       "['http://esl.fis.edu/grammar/q7m/1.htm',\n",
       " 'http://esl.fis.edu/grammar/q7m/2.htm',\n",
       " 'http://esl.fis.edu/grammar/q7m/3.htm']"
      ]
     },
     "execution_count": 1,
     "metadata": {},
     "output_type": "execute_result"
    }
   ],
   "source": [
    "url = \"http://esl.fis.edu/grammar/q7m/1.htm\"\n",
    "\n",
    "urltmp =\"http://esl.fis.edu/grammar/q7m/{}.htm\"\n",
    "print(url)\n",
    "\n",
    "urls = [  urltmp.format(i) for i in range(1,4)]\n",
    "urls"
   ]
  },
  {
   "cell_type": "code",
   "execution_count": 2,
   "metadata": {},
   "outputs": [],
   "source": [
    "from selenium import webdriver\n",
    "from bs4 import BeautifulSoup\n",
    "from tqdm import tqdm\n",
    "from time import sleep\n",
    "from collections import defaultdict\n",
    "import pandas as pd\n",
    "\n",
    "import pickle\n",
    "def save(fname, obj):\n",
    "    with open(fname , 'wb') as f:\n",
    "        f.write(pickle.dumps(obj))\n",
    "\n",
    "def load(fname):\n",
    "    with open(fname , 'rb') as f:\n",
    "        return pickle.loads(f.read())\n"
   ]
  },
  {
   "cell_type": "code",
   "execution_count": 3,
   "metadata": {},
   "outputs": [],
   "source": [
    "def open_url_and_get_soup(url, wait=0, return_driver=False, \n",
    "                          load_profiles=False, \n",
    "                          user_data_dir=r'/home/bala/.config/google-chrome',\n",
    "                          profilename='Profile 1'):\n",
    "    options = webdriver.chrome.options.Options()\n",
    "    options.add_argument(f\"--user-data-dir={user_data_dir}\")\n",
    "    options.add_argument(f'--profile-directory={profilename}')\n",
    "    \n",
    "    if load_profiles:\n",
    "        driver = webdriver.Chrome(options=options)\n",
    "    else:\n",
    "        driver = webdriver.Chrome()\n",
    "    driver.get(url)\n",
    "    if wait: sleep(wait)\n",
    "    data = driver.page_source\n",
    "    soup = BeautifulSoup(data)\n",
    "    if return_driver:\n",
    "        return soup, data, driver\n",
    "    driver.close()\n",
    "    return soup, data"
   ]
  },
  {
   "cell_type": "code",
   "execution_count": 4,
   "metadata": {},
   "outputs": [],
   "source": [
    "soup, _, driver = open_url_and_get_soup(url, return_driver=True)"
   ]
  },
  {
   "cell_type": "code",
   "execution_count": 5,
   "metadata": {},
   "outputs": [
    {
     "data": {
      "text/plain": [
       "<selenium.webdriver.remote.webelement.WebElement (session=\"5ac9b6331f023701bd6ce48a53dd7e8b\", element=\"f0bc6d10-bf22-4c8c-b280-6f42b9cef65b\")>"
      ]
     },
     "execution_count": 5,
     "metadata": {},
     "output_type": "execute_result"
    }
   ],
   "source": [
    "btn = driver.find_element_by_id(\"checkAnsBut\")\n",
    "btn"
   ]
  },
  {
   "cell_type": "code",
   "execution_count": 6,
   "metadata": {},
   "outputs": [],
   "source": [
    "if btn.is_enabled(): btn.click()"
   ]
  },
  {
   "cell_type": "code",
   "execution_count": 7,
   "metadata": {},
   "outputs": [],
   "source": [
    "#click the clise button\n",
    "try:\n",
    "    driver.find_element_by_xpath('//*[@id=\"light\"]/div[2]/a').click()\n",
    "except: print(\"no dialog to close\")"
   ]
  },
  {
   "cell_type": "code",
   "execution_count": 8,
   "metadata": {},
   "outputs": [],
   "source": [
    "soup = BeautifulSoup(driver.page_source)"
   ]
  },
  {
   "cell_type": "code",
   "execution_count": 9,
   "metadata": {},
   "outputs": [
    {
     "name": "stdout",
     "output_type": "stream",
     "text": [
      "('Q1. I  .....  tennis every Sunday morning.', 'playing', 'play', 'am playing', 'am play', 'play')\n",
      "(\"Q2. Don't make so much noise. Noriko  .....  to study for her ESL test!\", 'try', 'tries', 'tried', 'is trying', 'is trying')\n",
      "('Q3. Jun-Sik  .....  his teeth before breakfast every morning.', 'will cleaned', 'is cleaning', 'cleans', 'clean', 'cleans')\n",
      "(\"Q4. Sorry, she can't come to the phone. She  .....  a bath!\", 'is having', 'having', 'have', 'has', 'is having')\n",
      "('Q5. .....  many times every winter in Frankfurt.', 'It snows', 'It snowed', 'It is snowing', 'It is snow', 'It snows')\n",
      "('Q6. How many students in your class  .....  from Korea?', 'comes', 'come', 'came', 'are coming', 'come')\n",
      "('Q7. Weather report: \"It\\'s seven o\\'clock in Frankfurt and  .....  .\"', 'there is snow', 'it`s snowing', 'it snows', 'it snowed', 'it`s snowing')\n",
      "('Q8. Babies  .....  when they are hungry.', 'cry', 'cries', 'cried', 'are crying', 'cry')\n",
      "('Q9. Jane: \"What  .....  in the evenings?\"Mary: \"Usually I watch TV or read a book.\"', 'you doing', 'you do', 'do you do', 'are you doing', 'do you do')\n",
      "('Q10. Jane: \"What  .....  ?\"    Mary: \"I\\'m trying to fix my calculator.\"', 'you doing', 'you do', 'do you do', 'are you doing', 'are you doing')\n",
      "('Q11. Jane  .....  her blue jeans today, but usually she wears a skirt or a dress.', 'wears', 'wearing', 'wear', 'is wearing', 'is wearing')\n",
      "('Q12. I think I  .....  a new calculator. This one does not work properly any more.', 'needs', 'needed', 'need', 'am needing', 'need')\n",
      "(\"Q13. Sorry, you can't borrow my pencil. I  .....  it myself.\", 'was using', 'using', 'use', 'am using', 'am using')\n",
      "('Q14. At a school dance: Jane: \" .....  yourself?\" Mary: \"Yes, I\\'m having a great time!\"', 'You enjoying', 'Enjoy you', 'Do you enjoy', 'Are you enjoying', 'Are you enjoying')\n",
      "(\"Q15. I've just finished reading a story called Dangerous Game. It's about a man who  .....  his wife because he doesn't want to lose her.\", 'kills', 'killed', 'kill', 'is killing', 'kills')\n",
      "('Q16. What time  .....', 'the train leaves?', 'leaves the train?', 'is the train leaving?', 'does the train leave?', 'does the train leave?')\n",
      "('Q17. Jane: \"Are you going to the dance on Friday?\"  Mary: \"No, I\\'m not. I  .....  school dances; they\\'re loud, hot and crowded!\"', 'not enjoy', 'don`t enjoy', 'doesn`t enjoy', 'am not enjoying', 'don`t enjoy')\n",
      "('Q18. I  .....  for my pen. Have you seen it?', 'will look', 'looking', 'look', 'am looking', 'am looking')\n",
      "('Q19. You can keep my iPod if you like. I  .....  it any more.', 'don`t use', 'doesn`t use', 'didn`t use', 'am not using', 'don`t use')\n",
      "('Q20. The phone ...... Can you answer it, please?', 'rings', 'ring', 'rang', 'is ringing', 'is ringing')\n"
     ]
    }
   ],
   "source": [
    "questions = []\n",
    "\n",
    "for table in soup.find('form').find_all(\"table\"):\n",
    "    if table:\n",
    "        rows = table.find_all(\"tr\")\n",
    "        q = rows[0].text.strip()\n",
    "        mc = [ r.text.strip()  for r in rows[1:-1] ]\n",
    "        ans_tag = table.find(\"td\", {  'style': \"background-color: rgb(152, 251, 152);\"  })\n",
    "        if ans_tag:\n",
    "            ans = ans_tag.text.strip()\n",
    "        item = (q, *mc, ans )\n",
    "        questions.append( item )\n",
    "        print(item)\n",
    "driver.close()"
   ]
  },
  {
   "cell_type": "code",
   "execution_count": 10,
   "metadata": {},
   "outputs": [],
   "source": [
    "df = pd.DataFrame(questions, columns=['ques','option1', 'option2','option3','option4', 'ans'])"
   ]
  },
  {
   "cell_type": "code",
   "execution_count": 11,
   "metadata": {},
   "outputs": [
    {
     "data": {
      "text/html": [
       "<div>\n",
       "<style scoped>\n",
       "    .dataframe tbody tr th:only-of-type {\n",
       "        vertical-align: middle;\n",
       "    }\n",
       "\n",
       "    .dataframe tbody tr th {\n",
       "        vertical-align: top;\n",
       "    }\n",
       "\n",
       "    .dataframe thead th {\n",
       "        text-align: right;\n",
       "    }\n",
       "</style>\n",
       "<table border=\"1\" class=\"dataframe\">\n",
       "  <thead>\n",
       "    <tr style=\"text-align: right;\">\n",
       "      <th></th>\n",
       "      <th>ques</th>\n",
       "      <th>option1</th>\n",
       "      <th>option2</th>\n",
       "      <th>option3</th>\n",
       "      <th>option4</th>\n",
       "      <th>ans</th>\n",
       "    </tr>\n",
       "  </thead>\n",
       "  <tbody>\n",
       "    <tr>\n",
       "      <th>0</th>\n",
       "      <td>Q1. I  .....  tennis every Sunday morning.</td>\n",
       "      <td>playing</td>\n",
       "      <td>play</td>\n",
       "      <td>am playing</td>\n",
       "      <td>am play</td>\n",
       "      <td>play</td>\n",
       "    </tr>\n",
       "    <tr>\n",
       "      <th>1</th>\n",
       "      <td>Q2. Don't make so much noise. Noriko  .....  t...</td>\n",
       "      <td>try</td>\n",
       "      <td>tries</td>\n",
       "      <td>tried</td>\n",
       "      <td>is trying</td>\n",
       "      <td>is trying</td>\n",
       "    </tr>\n",
       "    <tr>\n",
       "      <th>2</th>\n",
       "      <td>Q3. Jun-Sik  .....  his teeth before breakfast...</td>\n",
       "      <td>will cleaned</td>\n",
       "      <td>is cleaning</td>\n",
       "      <td>cleans</td>\n",
       "      <td>clean</td>\n",
       "      <td>cleans</td>\n",
       "    </tr>\n",
       "    <tr>\n",
       "      <th>3</th>\n",
       "      <td>Q4. Sorry, she can't come to the phone. She  ....</td>\n",
       "      <td>is having</td>\n",
       "      <td>having</td>\n",
       "      <td>have</td>\n",
       "      <td>has</td>\n",
       "      <td>is having</td>\n",
       "    </tr>\n",
       "    <tr>\n",
       "      <th>4</th>\n",
       "      <td>Q5. .....  many times every winter in Frankfurt.</td>\n",
       "      <td>It snows</td>\n",
       "      <td>It snowed</td>\n",
       "      <td>It is snowing</td>\n",
       "      <td>It is snow</td>\n",
       "      <td>It snows</td>\n",
       "    </tr>\n",
       "  </tbody>\n",
       "</table>\n",
       "</div>"
      ],
      "text/plain": [
       "                                                ques       option1  \\\n",
       "0         Q1. I  .....  tennis every Sunday morning.       playing   \n",
       "1  Q2. Don't make so much noise. Noriko  .....  t...           try   \n",
       "2  Q3. Jun-Sik  .....  his teeth before breakfast...  will cleaned   \n",
       "3  Q4. Sorry, she can't come to the phone. She  ....     is having   \n",
       "4   Q5. .....  many times every winter in Frankfurt.      It snows   \n",
       "\n",
       "       option2        option3     option4        ans  \n",
       "0         play     am playing     am play       play  \n",
       "1        tries          tried   is trying  is trying  \n",
       "2  is cleaning         cleans       clean     cleans  \n",
       "3       having           have         has  is having  \n",
       "4    It snowed  It is snowing  It is snow   It snows  "
      ]
     },
     "execution_count": 11,
     "metadata": {},
     "output_type": "execute_result"
    }
   ],
   "source": [
    "df.head()"
   ]
  },
  {
   "cell_type": "code",
   "execution_count": 12,
   "metadata": {},
   "outputs": [],
   "source": [
    "df.to_csv(\"grammer_csv.csv\", index=False)"
   ]
  },
  {
   "cell_type": "markdown",
   "metadata": {},
   "source": [
    "## Loop"
   ]
  },
  {
   "cell_type": "code",
   "execution_count": 13,
   "metadata": {},
   "outputs": [
    {
     "name": "stdout",
     "output_type": "stream",
     "text": [
      "('Q1. I  .....  tennis every Sunday morning.', 'playing', 'play', 'am playing', 'am play', 'play')\n",
      "(\"Q2. Don't make so much noise. Noriko  .....  to study for her ESL test!\", 'try', 'tries', 'tried', 'is trying', 'is trying')\n",
      "('Q3. Jun-Sik  .....  his teeth before breakfast every morning.', 'will cleaned', 'is cleaning', 'cleans', 'clean', 'cleans')\n",
      "(\"Q4. Sorry, she can't come to the phone. She  .....  a bath!\", 'is having', 'having', 'have', 'has', 'is having')\n",
      "('Q5. .....  many times every winter in Frankfurt.', 'It snows', 'It snowed', 'It is snowing', 'It is snow', 'It snows')\n",
      "('Q6. How many students in your class  .....  from Korea?', 'comes', 'come', 'came', 'are coming', 'come')\n",
      "('Q7. Weather report: \"It\\'s seven o\\'clock in Frankfurt and  .....  .\"', 'there is snow', 'it`s snowing', 'it snows', 'it snowed', 'it`s snowing')\n",
      "('Q8. Babies  .....  when they are hungry.', 'cry', 'cries', 'cried', 'are crying', 'cry')\n",
      "('Q9. Jane: \"What  .....  in the evenings?\"Mary: \"Usually I watch TV or read a book.\"', 'you doing', 'you do', 'do you do', 'are you doing', 'do you do')\n",
      "('Q10. Jane: \"What  .....  ?\"    Mary: \"I\\'m trying to fix my calculator.\"', 'you doing', 'you do', 'do you do', 'are you doing', 'are you doing')\n",
      "('Q11. Jane  .....  her blue jeans today, but usually she wears a skirt or a dress.', 'wears', 'wearing', 'wear', 'is wearing', 'is wearing')\n",
      "('Q12. I think I  .....  a new calculator. This one does not work properly any more.', 'needs', 'needed', 'need', 'am needing', 'need')\n",
      "(\"Q13. Sorry, you can't borrow my pencil. I  .....  it myself.\", 'was using', 'using', 'use', 'am using', 'am using')\n",
      "('Q14. At a school dance: Jane: \" .....  yourself?\" Mary: \"Yes, I\\'m having a great time!\"', 'You enjoying', 'Enjoy you', 'Do you enjoy', 'Are you enjoying', 'Are you enjoying')\n",
      "(\"Q15. I've just finished reading a story called Dangerous Game. It's about a man who  .....  his wife because he doesn't want to lose her.\", 'kills', 'killed', 'kill', 'is killing', 'kills')\n",
      "('Q16. What time  .....', 'the train leaves?', 'leaves the train?', 'is the train leaving?', 'does the train leave?', 'does the train leave?')\n",
      "('Q17. Jane: \"Are you going to the dance on Friday?\"  Mary: \"No, I\\'m not. I  .....  school dances; they\\'re loud, hot and crowded!\"', 'not enjoy', 'don`t enjoy', 'doesn`t enjoy', 'am not enjoying', 'don`t enjoy')\n",
      "('Q18. I  .....  for my pen. Have you seen it?', 'will look', 'looking', 'look', 'am looking', 'am looking')\n",
      "('Q19. You can keep my iPod if you like. I  .....  it any more.', 'don`t use', 'doesn`t use', 'didn`t use', 'am not using', 'don`t use')\n",
      "('Q20. The phone ...... Can you answer it, please?', 'rings', 'ring', 'rang', 'is ringing', 'is ringing')\n",
      "(\"Q1. You'd better go to bed early tonight. The plane  .....  at 6 o'clock tomorrow morning so we'll have to be up by 4.30!\", 'will leave', 'leaves', 'leave', 'is leaving', 'leaves')\n",
      "('Q2. My father  .....  too much!', 'smoking', 'smokes', 'smoke', 'is smoking', 'smokes')\n",
      "('Q3. You should see the new Brad Pitt film. He plays the part of a cowboy who  .....  up a lawless town.', 'is cleaning', 'cleans', 'cleaned', 'clean', 'cleans')\n",
      "('Q4. Woo-Jin and I  .....  basketball after school today. Do you want to play too?', 'played', 'play', 'is playing', 'are playing', 'are playing')\n",
      "('Q5. Oil  .....  on water.', 'is floating', 'floats', 'floating', 'float', 'floats')\n",
      "('Q6. Why  .....  ? You should be listening to me!', 'you talk', 'you are talking', 'do you talk', 'are you talking', 'are you talking')\n",
      "('Q7. What  .....  next weekend, Yoshi?', 'you doing', 'you do', 'do you do', 'are you doing', 'are you doing')\n",
      "('Q8. Jane:  Do you play the piano?    Mary: No, I  .....  any musical instrument!', 'isn`t playing', 'don`t play', 'doesn`t play', 'am not playing', 'don`t play')\n",
      "('Q9. Money  .....  on trees!', 'isn`t growing', 'don`t grow', 'doesn`t grow', 'didn`t grow', 'doesn`t grow')\n",
      "('Q10. You  .....  into things and breaking them. How can anyone be so clumsy?', 'are always bumping', 'always bumps', 'always bumping', 'always bump', 'are always bumping')\n",
      "('Q11. \"What  .....  about the plan to shorten the school holidays?\"', 'you think', 'will you think', 'do you think', 'are you thinking', 'do you think')\n",
      "('Q12. Jane: \"What  .....  about?\"  Mary: \"My summer holidays! I wish I was still lying on the beach.\"', 'you thinking', 'does he think', 'do you think', 'are you thinking', 'are you thinking')\n",
      "('Q13. My father  .....  me to school this week because we had an accident and our car is being repaired.', 'isn`t driving', 'hadn`t driven', 'don`t drive', 'doesn`t drive', 'isn`t driving')\n",
      "('Q14. A new hotel  .....  in the centre of town.', 'is built', 'is building', 'is being built', 'built', 'is being built')\n",
      "('Q1. I  .....  to bed very late last night.', 'went', 'was going', 'have gone', 'go', 'went')\n",
      "('Q2. I  .....  tennis yesterday.', 'will play', 'played', 'play', 'have played', 'played')\n",
      "('Q3. My brother is an author. He  .....  many books.', 'wrote', 'write', 'is writing', 'has written', 'has written')\n",
      "('Q4. My brother, who died last year, was an author. He  .....  many books.', 'wrote', 'writes', 'was writing', 'has written', 'wrote')\n",
      "('Q5. I  .....  to New York last Christmas.', 'have flown', 'fly', 'flew', 'am flowing', 'flew')\n",
      "('Q6. My grandparents live in the USA so I  .....  to New York many times.', 'have flown', 'flies', 'flew', 'am flying', 'have flown')\n",
      "(\"Q7. I  .....  tennis three times already this week and it's still only Wednesday.\", 'was playing', 'played', 'play', 'have played', 'have played')\n",
      "('Q8. Student to the teacher: \" ..... ! What shall I do now?\"', 'I`ve finished', 'I finished', 'I am finishing', 'I am finish', 'I`ve finished')\n",
      "('Q9. I  .....  to bed very late last night.', 'went', 'was going', 'have gone', 'go', 'went')\n",
      "('Q10. This tree  .....  really fast. Last year it was only half this size.', 'will grow', 'has grown', 'grows', 'grew', 'has grown')\n",
      "('Q11. I  .....  to the theater many times when I lived in London.', 'went', 'was going', 'have went', 'have gone', 'went')\n",
      "(\"Q12. Where's my calculator? I put it on the desk a minute ago and now  ..... !\", 'it`s disappearing', 'it`s disappeared', 'it disappears', 'it disappeared', 'it`s disappeared')\n",
      "('Q13. My father  .....  in a bank for 10 years, then he became a computer programmer.', 'works', 'worked', 'was working', 'has worked', 'worked')\n",
      "('Q14. My father  .....  at his bank for 10 years. He really likes his job.', 'worked', 'was working', 'is working', 'has worked', 'has worked')\n",
      "('Q15. My grandfather died 10 years before I was born, so I  .....  him.', 'was not meeting', 'meet not', 'have not met', 'did not meet', 'did not meet')\n",
      "(\"Q16. I'm very hungry. It's 11.30 and I  .....  anything yet today.\", 'haven`t eaten', 'don`t eat', 'didn`t eat', 'am not eating', 'haven`t eaten')\n",
      "('Q17. .....  the football match on TV last night?', 'Were you seeing', 'Have you seen', 'Do you see', 'Did you see', 'Did you see')\n",
      "('Q18. Last week was very wet, but it  .....  once yet this week.', 'isn`t raining', 'haven`t rained', 'hasn`t rained', 'didn`t rain', 'hasn`t rained')\n",
      "('Q19. .....  a new computer. Do you want to see it?', 'I`ve bought', 'I was buying', 'I buy', 'I bought', 'I`ve bought')\n",
      "('Q20. .....  my dictionary. Have you seen it?', 'I`ve lost', 'I`m lost', 'I lost', 'I lose', 'I`ve lost')\n"
     ]
    }
   ],
   "source": [
    "questions = []\n",
    "\n",
    "for url in urls:\n",
    "    soup, _, driver = open_url_and_get_soup(url, return_driver=True)\n",
    "    btn = driver.find_element_by_id(\"checkAnsBut\")\n",
    "    if btn.is_enabled(): btn.click()\n",
    "\n",
    "    try:\n",
    "        driver.find_element_by_xpath('//*[@id=\"light\"]/div[2]/a').click()\n",
    "    except: print(\"no dialog to close\")\n",
    "\n",
    "    soup = BeautifulSoup(driver.page_source)\n",
    "\n",
    "    for table in soup.find('form').find_all(\"table\"):\n",
    "        if table:\n",
    "            rows = table.find_all(\"tr\")\n",
    "            q = rows[0].text.strip()\n",
    "            mc = [ r.text.strip()  for r in rows[1:-1] ]\n",
    "            ans_tag = table.find(\"td\", {  'style': \"background-color: rgb(152, 251, 152);\"  })\n",
    "            if ans_tag:\n",
    "                ans = ans_tag.text.strip()\n",
    "            item = (q, *mc, ans )\n",
    "            questions.append( item )\n",
    "            print(item)"
   ]
  },
  {
   "cell_type": "code",
   "execution_count": 14,
   "metadata": {},
   "outputs": [],
   "source": [
    "df = pd.DataFrame(questions, columns=['ques','option1', 'option2','option3','option4', 'ans'])"
   ]
  },
  {
   "cell_type": "code",
   "execution_count": 15,
   "metadata": {},
   "outputs": [],
   "source": [
    "df.to_csv(\"grammer_60.csv\", index=False)"
   ]
  },
  {
   "cell_type": "code",
   "execution_count": 16,
   "metadata": {},
   "outputs": [
    {
     "name": "stdout",
     "output_type": "stream",
     "text": [
      "english-grammer-quiz.ipynb  grammer_60.csv  grammer_csv.csv\r\n"
     ]
    }
   ],
   "source": [
    "!ls"
   ]
  },
  {
   "cell_type": "code",
   "execution_count": 17,
   "metadata": {},
   "outputs": [],
   "source": [
    "import numpy as np\n",
    "def func(x):\n",
    "    ops = 'option1 \toption2 \toption3 \toption4'.strip().split()\n",
    "    options = [ x[op] for op in ops ]\n",
    "    #print(options.index(x.ans))\n",
    "    return options.index(x.ans)\n",
    "\n",
    "df[\"answer\"] = df.apply(func, axis=1)"
   ]
  },
  {
   "cell_type": "code",
   "execution_count": 18,
   "metadata": {},
   "outputs": [
    {
     "data": {
      "text/html": [
       "<div>\n",
       "<style scoped>\n",
       "    .dataframe tbody tr th:only-of-type {\n",
       "        vertical-align: middle;\n",
       "    }\n",
       "\n",
       "    .dataframe tbody tr th {\n",
       "        vertical-align: top;\n",
       "    }\n",
       "\n",
       "    .dataframe thead th {\n",
       "        text-align: right;\n",
       "    }\n",
       "</style>\n",
       "<table border=\"1\" class=\"dataframe\">\n",
       "  <thead>\n",
       "    <tr style=\"text-align: right;\">\n",
       "      <th></th>\n",
       "      <th>ques</th>\n",
       "      <th>option1</th>\n",
       "      <th>option2</th>\n",
       "      <th>option3</th>\n",
       "      <th>option4</th>\n",
       "      <th>ans</th>\n",
       "      <th>answer</th>\n",
       "    </tr>\n",
       "  </thead>\n",
       "  <tbody>\n",
       "    <tr>\n",
       "      <th>0</th>\n",
       "      <td>Q1. I  .....  tennis every Sunday morning.</td>\n",
       "      <td>playing</td>\n",
       "      <td>play</td>\n",
       "      <td>am playing</td>\n",
       "      <td>am play</td>\n",
       "      <td>play</td>\n",
       "      <td>1</td>\n",
       "    </tr>\n",
       "    <tr>\n",
       "      <th>1</th>\n",
       "      <td>Q2. Don't make so much noise. Noriko  .....  t...</td>\n",
       "      <td>try</td>\n",
       "      <td>tries</td>\n",
       "      <td>tried</td>\n",
       "      <td>is trying</td>\n",
       "      <td>is trying</td>\n",
       "      <td>3</td>\n",
       "    </tr>\n",
       "    <tr>\n",
       "      <th>2</th>\n",
       "      <td>Q3. Jun-Sik  .....  his teeth before breakfast...</td>\n",
       "      <td>will cleaned</td>\n",
       "      <td>is cleaning</td>\n",
       "      <td>cleans</td>\n",
       "      <td>clean</td>\n",
       "      <td>cleans</td>\n",
       "      <td>2</td>\n",
       "    </tr>\n",
       "    <tr>\n",
       "      <th>3</th>\n",
       "      <td>Q4. Sorry, she can't come to the phone. She  ....</td>\n",
       "      <td>is having</td>\n",
       "      <td>having</td>\n",
       "      <td>have</td>\n",
       "      <td>has</td>\n",
       "      <td>is having</td>\n",
       "      <td>0</td>\n",
       "    </tr>\n",
       "    <tr>\n",
       "      <th>4</th>\n",
       "      <td>Q5. .....  many times every winter in Frankfurt.</td>\n",
       "      <td>It snows</td>\n",
       "      <td>It snowed</td>\n",
       "      <td>It is snowing</td>\n",
       "      <td>It is snow</td>\n",
       "      <td>It snows</td>\n",
       "      <td>0</td>\n",
       "    </tr>\n",
       "  </tbody>\n",
       "</table>\n",
       "</div>"
      ],
      "text/plain": [
       "                                                ques       option1  \\\n",
       "0         Q1. I  .....  tennis every Sunday morning.       playing   \n",
       "1  Q2. Don't make so much noise. Noriko  .....  t...           try   \n",
       "2  Q3. Jun-Sik  .....  his teeth before breakfast...  will cleaned   \n",
       "3  Q4. Sorry, she can't come to the phone. She  ....     is having   \n",
       "4   Q5. .....  many times every winter in Frankfurt.      It snows   \n",
       "\n",
       "       option2        option3     option4        ans  answer  \n",
       "0         play     am playing     am play       play       1  \n",
       "1        tries          tried   is trying  is trying       3  \n",
       "2  is cleaning         cleans       clean     cleans       2  \n",
       "3       having           have         has  is having       0  \n",
       "4    It snowed  It is snowing  It is snow   It snows       0  "
      ]
     },
     "execution_count": 18,
     "metadata": {},
     "output_type": "execute_result"
    }
   ],
   "source": [
    "df.head()"
   ]
  },
  {
   "cell_type": "code",
   "execution_count": 19,
   "metadata": {},
   "outputs": [],
   "source": [
    "df.to_csv(\"grammer_60.csv\", index=False)"
   ]
  },
  {
   "cell_type": "code",
   "execution_count": 20,
   "metadata": {},
   "outputs": [
    {
     "data": {
      "text/html": [
       "<div>\n",
       "<style scoped>\n",
       "    .dataframe tbody tr th:only-of-type {\n",
       "        vertical-align: middle;\n",
       "    }\n",
       "\n",
       "    .dataframe tbody tr th {\n",
       "        vertical-align: top;\n",
       "    }\n",
       "\n",
       "    .dataframe thead th {\n",
       "        text-align: right;\n",
       "    }\n",
       "</style>\n",
       "<table border=\"1\" class=\"dataframe\">\n",
       "  <thead>\n",
       "    <tr style=\"text-align: right;\">\n",
       "      <th></th>\n",
       "      <th>ques</th>\n",
       "      <th>option1</th>\n",
       "      <th>option2</th>\n",
       "      <th>option3</th>\n",
       "      <th>option4</th>\n",
       "      <th>ans</th>\n",
       "      <th>answer</th>\n",
       "    </tr>\n",
       "  </thead>\n",
       "  <tbody>\n",
       "    <tr>\n",
       "      <th>0</th>\n",
       "      <td>Q1. I  .....  tennis every Sunday morning.</td>\n",
       "      <td>playing</td>\n",
       "      <td>play</td>\n",
       "      <td>am playing</td>\n",
       "      <td>am play</td>\n",
       "      <td>play</td>\n",
       "      <td>1</td>\n",
       "    </tr>\n",
       "    <tr>\n",
       "      <th>1</th>\n",
       "      <td>Q2. Don't make so much noise. Noriko  .....  t...</td>\n",
       "      <td>try</td>\n",
       "      <td>tries</td>\n",
       "      <td>tried</td>\n",
       "      <td>is trying</td>\n",
       "      <td>is trying</td>\n",
       "      <td>3</td>\n",
       "    </tr>\n",
       "    <tr>\n",
       "      <th>2</th>\n",
       "      <td>Q3. Jun-Sik  .....  his teeth before breakfast...</td>\n",
       "      <td>will cleaned</td>\n",
       "      <td>is cleaning</td>\n",
       "      <td>cleans</td>\n",
       "      <td>clean</td>\n",
       "      <td>cleans</td>\n",
       "      <td>2</td>\n",
       "    </tr>\n",
       "    <tr>\n",
       "      <th>3</th>\n",
       "      <td>Q4. Sorry, she can't come to the phone. She  ....</td>\n",
       "      <td>is having</td>\n",
       "      <td>having</td>\n",
       "      <td>have</td>\n",
       "      <td>has</td>\n",
       "      <td>is having</td>\n",
       "      <td>0</td>\n",
       "    </tr>\n",
       "    <tr>\n",
       "      <th>4</th>\n",
       "      <td>Q5. .....  many times every winter in Frankfurt.</td>\n",
       "      <td>It snows</td>\n",
       "      <td>It snowed</td>\n",
       "      <td>It is snowing</td>\n",
       "      <td>It is snow</td>\n",
       "      <td>It snows</td>\n",
       "      <td>0</td>\n",
       "    </tr>\n",
       "  </tbody>\n",
       "</table>\n",
       "</div>"
      ],
      "text/plain": [
       "                                                ques       option1  \\\n",
       "0         Q1. I  .....  tennis every Sunday morning.       playing   \n",
       "1  Q2. Don't make so much noise. Noriko  .....  t...           try   \n",
       "2  Q3. Jun-Sik  .....  his teeth before breakfast...  will cleaned   \n",
       "3  Q4. Sorry, she can't come to the phone. She  ....     is having   \n",
       "4   Q5. .....  many times every winter in Frankfurt.      It snows   \n",
       "\n",
       "       option2        option3     option4        ans  answer  \n",
       "0         play     am playing     am play       play       1  \n",
       "1        tries          tried   is trying  is trying       3  \n",
       "2  is cleaning         cleans       clean     cleans       2  \n",
       "3       having           have         has  is having       0  \n",
       "4    It snowed  It is snowing  It is snow   It snows       0  "
      ]
     },
     "execution_count": 20,
     "metadata": {},
     "output_type": "execute_result"
    }
   ],
   "source": [
    "df.head()"
   ]
  },
  {
   "cell_type": "code",
   "execution_count": null,
   "metadata": {},
   "outputs": [],
   "source": []
  }
 ],
 "metadata": {
  "kernelspec": {
   "display_name": "Python 3",
   "language": "python",
   "name": "python3"
  },
  "language_info": {
   "codemirror_mode": {
    "name": "ipython",
    "version": 3
   },
   "file_extension": ".py",
   "mimetype": "text/x-python",
   "name": "python",
   "nbconvert_exporter": "python",
   "pygments_lexer": "ipython3",
   "version": "3.7.3"
  }
 },
 "nbformat": 4,
 "nbformat_minor": 2
}
